{
  "cells": [
    {
      "cell_type": "markdown",
      "source": [
        "## Analytic approximations to the min and max operators: "
      ],
      "metadata": {
        "collapsed": false,
        "outputHidden": false,
        "inputHidden": false
      }
    },
    {
      "cell_type": "markdown",
      "source": [
        "## 1. The average relative error as a test for numerical stability: "
      ],
      "metadata": {}
    },
    {
      "cell_type": "code",
      "source": [
        "using Statistics\n",
        "\n",
        "function numerical_stability(method,type::Int64)\n",
        "\n",
        "\trelative_errors = zeros(100)\n",
        "\n",
        "\tfor i = 1:100\n",
        "\n",
        "\t\tX = (2*rand(100).-1.0)*1000\n",
        "\n",
        "\t\tif type == 1\n",
        "\n",
        "\t\t\tmax_ = maximum(X)\n",
        "\n",
        "\t\t\trelative_errors[i] = abs(max_-method(X,i))/abs(max_)\n",
        "\n",
        "\t\telse \n",
        "\n",
        "\t\t\tmin_ = minimum(X)\n",
        "\n",
        "\t\t\trelative_errors[i] = abs(min_-method(X,i))/abs(min_)\n",
        "\n",
        "\t\tend\n",
        "\n",
        "\tend\n",
        "\n",
        "\treturn mean(relative_errors)\n",
        "\nend"
      ],
      "outputs": [
        {
          "output_type": "execute_result",
          "execution_count": 15,
          "data": {
            "text/plain": [
              "numerical_stability (generic function with 1 method)"
            ]
          },
          "metadata": {}
        }
      ],
      "execution_count": 15,
      "metadata": {
        "collapsed": false,
        "outputHidden": false,
        "inputHidden": false
      }
    },
    {
      "cell_type": "markdown",
      "source": [
        "## 2. A couple answers proposed on the MathOverflow: https://mathoverflow.net/questions/35191/a-differentiable-approximation-to-the-minimum-function\n"
      ],
      "metadata": {}
    },
    {
      "cell_type": "code",
      "source": [
        "function GM(X::Array{Float64, 1},N::Int64)\n",
        "\n",
        "\treturn mean(X.^N)^(1/N)\n",
        "\n",
        "end\n",
        "\n",
        "function exp_GM(X::Array{Float64, 1},N::Int64)\n",
        "\n",
        "\t### This method is terrible. Overflow errors everywhere. \n",
        "\n",
        "\texp_ = mean(exp.(N*X))\n",
        "\n",
        "\treturn (1/N)*log(exp_)\n",
        "\nend"
      ],
      "outputs": [
        {
          "output_type": "execute_result",
          "execution_count": 2,
          "data": {
            "text/plain": [
              "exp_GM (generic function with 1 method)"
            ]
          },
          "metadata": {}
        }
      ],
      "execution_count": 2,
      "metadata": {
        "collapsed": false,
        "outputHidden": false,
        "inputHidden": false
      }
    },
    {
      "cell_type": "markdown",
      "source": [
        "## 3. Analysis of the generalised mean: "
      ],
      "metadata": {}
    },
    {
      "cell_type": "code",
      "source": [
        "numerical_stability(GM,1)"
      ],
      "outputs": [
        {
          "output_type": "error",
          "ename": "DomainError",
          "evalue": "DomainError with -1.6737682885546803e13:\nExponentiation yielding a complex result requires a complex argument.\nReplace x^y with (x+0im)^y, Complex(x)^y, or similar.",
          "traceback": [
            "DomainError with -1.6737682885546803e13:\nExponentiation yielding a complex result requires a complex argument.\nReplace x^y with (x+0im)^y, Complex(x)^y, or similar.",
            "",
            "Stacktrace:",
            " [1] throw_exp_domainerror(::Float64) at ./math.jl:36",
            " [2] ^ at ./math.jl:849 [inlined]",
            " [3] GM(::Array{Float64,1}, ::Int64) at ./In[2]:3",
            " [4] numerical_stability(::typeof(GM), ::Int64) at ./In[1]:15",
            " [5] top-level scope at In[3]:1"
          ]
        }
      ],
      "execution_count": 3,
      "metadata": {
        "collapsed": false,
        "outputHidden": false,
        "inputHidden": false
      }
    },
    {
      "cell_type": "markdown",
      "source": [
        "### This method returns a type error for odd exponents unless all elements of X are positive: https://math.stackexchange.com/questions/317528/how-do-you-compute-negative-numbers-to-fractional-powers/317546#317546.  "
      ],
      "metadata": {}
    },
    {
      "cell_type": "code",
      "source": [
        "X = 100*(2*rand(100).-1.0)\n",
        "\nGM(X,101), maximum(X)"
      ],
      "outputs": [
        {
          "output_type": "error",
          "ename": "DomainError",
          "evalue": "DomainError with -6.321674060509639e199:\nExponentiation yielding a complex result requires a complex argument.\nReplace x^y with (x+0im)^y, Complex(x)^y, or similar.",
          "traceback": [
            "DomainError with -6.321674060509639e199:\nExponentiation yielding a complex result requires a complex argument.\nReplace x^y with (x+0im)^y, Complex(x)^y, or similar.",
            "",
            "Stacktrace:",
            " [1] throw_exp_domainerror(::Float64) at ./math.jl:36",
            " [2] ^ at ./math.jl:849 [inlined]",
            " [3] GM(::Array{Float64,1}, ::Int64) at ./In[2]:3",
            " [4] top-level scope at In[6]:2"
          ]
        }
      ],
      "execution_count": 6,
      "metadata": {
        "collapsed": false,
        "outputHidden": false,
        "inputHidden": false
      }
    },
    {
      "cell_type": "markdown",
      "source": [
        "### It is also numerically unstable:"
      ],
      "metadata": {}
    },
    {
      "cell_type": "code",
      "source": [
        "X = 1000*rand(100)\n",
        "\nGM(X,105), maximum(X)"
      ],
      "outputs": [
        {
          "output_type": "execute_result",
          "execution_count": 7,
          "data": {
            "text/plain": [
              "(Inf, 999.0314747417859)"
            ]
          },
          "metadata": {}
        }
      ],
      "execution_count": 7,
      "metadata": {
        "collapsed": false,
        "outputHidden": false,
        "inputHidden": false
      }
    },
    {
      "cell_type": "markdown",
      "source": [
        "## 4. Analysis of an exponential variant of the generalised mean: "
      ],
      "metadata": {}
    },
    {
      "cell_type": "code",
      "source": [
        "numerical_stability(exp_GM,1)"
      ],
      "outputs": [
        {
          "output_type": "execute_result",
          "execution_count": 8,
          "data": {
            "text/plain": [
              "Inf"
            ]
          },
          "metadata": {}
        }
      ],
      "execution_count": 8,
      "metadata": {
        "collapsed": false,
        "outputHidden": false,
        "inputHidden": false
      }
    },
    {
      "cell_type": "markdown",
      "source": [
        "### This approach works for vectors containing small elements:"
      ],
      "metadata": {}
    },
    {
      "cell_type": "code",
      "source": [
        "X = 5*rand(10)\n",
        "\nexp_GM(X,10), maximum(X)"
      ],
      "outputs": [
        {
          "output_type": "execute_result",
          "execution_count": 9,
          "data": {
            "text/plain": [
              "(4.67592809202989, 4.8879261224933686)"
            ]
          },
          "metadata": {}
        }
      ],
      "execution_count": 9,
      "metadata": {
        "collapsed": false,
        "outputHidden": false,
        "inputHidden": false
      }
    },
    {
      "cell_type": "markdown",
      "source": [
        "### But, consider vectors with values in the interval \\[0,500\\]:"
      ],
      "metadata": {}
    },
    {
      "cell_type": "code",
      "source": [
        "X = 500*rand(10)\n",
        "\nexp_GM(X,10), maximum(X)"
      ],
      "outputs": [
        {
          "output_type": "execute_result",
          "execution_count": 10,
          "data": {
            "text/plain": [
              "(Inf, 490.55456844015566)"
            ]
          },
          "metadata": {}
        }
      ],
      "execution_count": 10,
      "metadata": {
        "collapsed": false,
        "outputHidden": false,
        "inputHidden": false
      }
    },
    {
      "cell_type": "markdown",
      "source": [
        "## 5. Analysis of the smooth maximum: https://en.wikipedia.org/wiki/Smooth_maximum"
      ],
      "metadata": {}
    },
    {
      "cell_type": "code",
      "source": [
        "function smooth_max(X::Array{Float64, 1},N::Int64)\n",
        "\n",
        "\t## implementation of the smooth maximum: \n",
        "\t## https://en.wikipedia.org/wiki/Smooth_maximum\n",
        "\n",
        "\texp_ = exp.(X*N)\n",
        "\n",
        "\treturn sum(X.*exp_)/sum(exp_)\n",
        "\n",
        "end\n",
        "\nnumerical_stability(smooth_max,1)"
      ],
      "outputs": [
        {
          "output_type": "execute_result",
          "execution_count": 11,
          "data": {
            "text/plain": [
              "NaN"
            ]
          },
          "metadata": {}
        }
      ],
      "execution_count": 11,
      "metadata": {
        "collapsed": false,
        "outputHidden": false,
        "inputHidden": false
      }
    },
    {
      "cell_type": "markdown",
      "source": [
        "### This method is also numerically unstable. "
      ],
      "metadata": {}
    },
    {
      "cell_type": "markdown",
      "source": [
        "### Summary: We need a method that handles vectors sampled from large intervals without producing overflow errors, has good convergence properties, and handles both positive and negative numbers. "
      ],
      "metadata": {}
    },
    {
      "cell_type": "markdown",
      "source": [
        "## 6. My proposed solutions inspired by the infinity norm: "
      ],
      "metadata": {
        "collapsed": false,
        "outputHidden": false,
        "inputHidden": false
      }
    },
    {
      "cell_type": "code",
      "source": [
        "## The key ideas here are to first standardise the vector by subtracting the mean\n",
        "## and dividing by the variance. Then we map the vector from R^n to R+^n so \n",
        "## a method inspired by the infinity norm can work. \n",
        "\n",
        "function analytic_max(X::Array{Float64, 1},N::Int64)\n",
        "\n",
        "\tmu, sigma = mean(X), std(X)\n",
        "\n",
        "    Z_score = (X.-mu)./sigma\n",
        "\n",
        "    exp_sum = sum(exp.(Z_score*N))\n",
        "\n",
        "    log_ = log(exp_sum)/N\n",
        "\n",
        "    return (log_*sigma)+mu\n",
        "\n",
        "end\n",
        "\n",
        "function analytic_min(X::Array{Float64, 1},N::Int64)\n",
        "\n",
        "\tmu, sigma = mean(X), std(X)\n",
        "\n",
        "    Z_score = (X.-mu)./sigma\n",
        "\n",
        "    neg_exp_sum = sum(exp.(-Z_score*N))\n",
        "\n",
        "    log_ = -log(neg_exp_sum)/N\n",
        "\n",
        "    return (sigma*log_)+mu\n",
        "\nend"
      ],
      "outputs": [
        {
          "output_type": "execute_result",
          "execution_count": 12,
          "data": {
            "text/plain": [
              "analytic_min (generic function with 1 method)"
            ]
          },
          "metadata": {}
        }
      ],
      "execution_count": 12,
      "metadata": {
        "collapsed": false,
        "outputHidden": false,
        "inputHidden": false
      }
    },
    {
      "cell_type": "code",
      "source": [
        "numerical_stability(analytic_max,1)"
      ],
      "outputs": [
        {
          "output_type": "execute_result",
          "execution_count": 13,
          "data": {
            "text/plain": [
              "0.054149551817268105"
            ]
          },
          "metadata": {}
        }
      ],
      "execution_count": 13,
      "metadata": {
        "collapsed": false,
        "outputHidden": false,
        "inputHidden": false
      }
    },
    {
      "cell_type": "code",
      "source": [
        "numerical_stability(analytic_min,2)"
      ],
      "outputs": [
        {
          "output_type": "execute_result",
          "execution_count": 16,
          "data": {
            "text/plain": [
              "0.05143422086633216"
            ]
          },
          "metadata": {}
        }
      ],
      "execution_count": 16,
      "metadata": {
        "collapsed": false,
        "outputHidden": false,
        "inputHidden": false
      }
    },
    {
      "cell_type": "code",
      "source": [],
      "outputs": [],
      "execution_count": null,
      "metadata": {
        "collapsed": false,
        "outputHidden": false,
        "inputHidden": false
      }
    }
  ],
  "metadata": {
    "kernel_info": {
      "name": "julia-1.3"
    },
    "language_info": {
      "file_extension": ".jl",
      "name": "julia",
      "mimetype": "application/julia",
      "version": "1.3.1"
    },
    "kernelspec": {
      "name": "julia-1.3",
      "language": "julia",
      "display_name": "Julia 1.3.1"
    },
    "nteract": {
      "version": "0.11.6"
    }
  },
  "nbformat": 4,
  "nbformat_minor": 4
}